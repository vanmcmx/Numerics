{
 "cells": [
  {
   "cell_type": "markdown",
   "metadata": {},
   "source": [
    "   # Factorización $LDL^T$\n",
    "   \n",
    "   para matrices simetricas invertibles"
   ]
  },
  {
   "cell_type": "code",
   "execution_count": 1,
   "metadata": {},
   "outputs": [
    {
     "data": {
      "text/plain": [
       "3×3 Array{Int64,2}:\n",
       "  3  -3   3\n",
       " -3   5   1\n",
       "  3   1  10"
      ]
     },
     "execution_count": 1,
     "metadata": {},
     "output_type": "execute_result"
    }
   ],
   "source": [
    "[[3 -3 3];[-3 5 1];[3 1 10]]"
   ]
  },
  {
   "cell_type": "code",
   "execution_count": 2,
   "metadata": {},
   "outputs": [
    {
     "data": {
      "text/plain": [
       "3×3 Array{Float64,2}:\n",
       "  3.0  -3.0   3.0\n",
       " -3.0   5.0   1.0\n",
       "  3.0   1.0  10.0"
      ]
     },
     "execution_count": 2,
     "metadata": {},
     "output_type": "execute_result"
    }
   ],
   "source": [
    "A = Array{Float64}([[3 -3 3];[-3 5 1];[3 1 10]])"
   ]
  },
  {
   "cell_type": "code",
   "execution_count": 3,
   "metadata": {},
   "outputs": [
    {
     "name": "stdout",
     "output_type": "stream",
     "text": [
      "search: \u001b[1ml\u001b[22m\u001b[1mu\u001b[22m \u001b[1ml\u001b[22m\u001b[1mu\u001b[22mfact \u001b[1ml\u001b[22m\u001b[1mu\u001b[22mfact! f\u001b[1ml\u001b[22m\u001b[1mu\u001b[22msh C\u001b[1ml\u001b[22m\u001b[1mu\u001b[22msterManager va\u001b[1ml\u001b[22m\u001b[1mu\u001b[22mes inc\u001b[1ml\u001b[22m\u001b[1mu\u001b[22mde inc\u001b[1ml\u001b[22m\u001b[1mu\u001b[22mde_string\n",
      "\n"
     ]
    },
    {
     "data": {
      "text/markdown": [
       "```\n",
       "lu(A, pivot=Val{true}) -> L, U, p\n",
       "```\n",
       "\n",
       "Compute the LU factorization of `A`, such that `A[p,:] = L*U`. By default, pivoting is used. This can be overridden by passing `Val{false}` for the second argument.\n",
       "\n",
       "See also [`lufact`](@ref).\n",
       "\n",
       "# Example\n",
       "\n",
       "```jldoctest\n",
       "julia> A = [4. 3.; 6. 3.]\n",
       "2×2 Array{Float64,2}:\n",
       " 4.0  3.0\n",
       " 6.0  3.0\n",
       "\n",
       "julia> L, U, p = lu(A)\n",
       "([1.0 0.0; 0.666667 1.0], [6.0 3.0; 0.0 1.0], [2, 1])\n",
       "\n",
       "julia> A[p, :] == L * U\n",
       "true\n",
       "```\n"
      ],
      "text/plain": [
       "```\n",
       "lu(A, pivot=Val{true}) -> L, U, p\n",
       "```\n",
       "\n",
       "Compute the LU factorization of `A`, such that `A[p,:] = L*U`. By default, pivoting is used. This can be overridden by passing `Val{false}` for the second argument.\n",
       "\n",
       "See also [`lufact`](@ref).\n",
       "\n",
       "# Example\n",
       "\n",
       "```jldoctest\n",
       "julia> A = [4. 3.; 6. 3.]\n",
       "2×2 Array{Float64,2}:\n",
       " 4.0  3.0\n",
       " 6.0  3.0\n",
       "\n",
       "julia> L, U, p = lu(A)\n",
       "([1.0 0.0; 0.666667 1.0], [6.0 3.0; 0.0 1.0], [2, 1])\n",
       "\n",
       "julia> A[p, :] == L * U\n",
       "true\n",
       "```\n"
      ]
     },
     "execution_count": 3,
     "metadata": {},
     "output_type": "execute_result"
    }
   ],
   "source": [
    "?lu"
   ]
  },
  {
   "cell_type": "code",
   "execution_count": 4,
   "metadata": {},
   "outputs": [],
   "source": [
    "L,U = lu(A, Val{false});"
   ]
  },
  {
   "cell_type": "code",
   "execution_count": 5,
   "metadata": {},
   "outputs": [
    {
     "data": {
      "text/plain": [
       "3×3 Array{Float64,2}:\n",
       "  1.0  0.0  0.0\n",
       " -1.0  1.0  0.0\n",
       "  1.0  2.0  1.0"
      ]
     },
     "execution_count": 5,
     "metadata": {},
     "output_type": "execute_result"
    }
   ],
   "source": [
    "L"
   ]
  },
  {
   "cell_type": "code",
   "execution_count": 6,
   "metadata": {},
   "outputs": [
    {
     "data": {
      "text/plain": [
       "3×3 Array{Float64,2}:\n",
       " 3.0  -3.0   3.0\n",
       " 0.0   2.0   4.0\n",
       " 0.0   0.0  -1.0"
      ]
     },
     "execution_count": 6,
     "metadata": {},
     "output_type": "execute_result"
    }
   ],
   "source": [
    "U"
   ]
  },
  {
   "cell_type": "code",
   "execution_count": 7,
   "metadata": {},
   "outputs": [
    {
     "data": {
      "text/plain": [
       "3-element Array{Float64,1}:\n",
       "  3.0\n",
       "  2.0\n",
       " -1.0"
      ]
     },
     "execution_count": 7,
     "metadata": {},
     "output_type": "execute_result"
    }
   ],
   "source": [
    "d = diag(U)"
   ]
  },
  {
   "cell_type": "code",
   "execution_count": 8,
   "metadata": {},
   "outputs": [
    {
     "data": {
      "text/plain": [
       "3×3 Array{Float64,2}:\n",
       " 3.0  0.0   0.0\n",
       " 0.0  2.0   0.0\n",
       " 0.0  0.0  -1.0"
      ]
     },
     "execution_count": 8,
     "metadata": {},
     "output_type": "execute_result"
    }
   ],
   "source": [
    "D = diagm(d)"
   ]
  },
  {
   "cell_type": "code",
   "execution_count": 9,
   "metadata": {},
   "outputs": [
    {
     "data": {
      "text/plain": [
       "3×3 Array{Float64,2}:\n",
       " 0.333333  0.0   0.0\n",
       " 0.0       0.5   0.0\n",
       " 0.0       0.0  -1.0"
      ]
     },
     "execution_count": 9,
     "metadata": {},
     "output_type": "execute_result"
    }
   ],
   "source": [
    "D⁻¹ = diagm(1.0./d)"
   ]
  },
  {
   "cell_type": "code",
   "execution_count": 10,
   "metadata": {},
   "outputs": [
    {
     "data": {
      "text/plain": [
       "3×3 Array{Float64,2}:\n",
       " 1.0  -1.0  1.0\n",
       " 0.0   1.0  2.0\n",
       " 0.0   0.0  1.0"
      ]
     },
     "execution_count": 10,
     "metadata": {},
     "output_type": "execute_result"
    }
   ],
   "source": [
    "D⁻¹*U"
   ]
  },
  {
   "cell_type": "code",
   "execution_count": 35,
   "metadata": {},
   "outputs": [
    {
     "data": {
      "text/plain": [
       "3×3 Array{Float64,2}:\n",
       " 1.0  -1.0  1.0\n",
       " 0.0   1.0  2.0\n",
       " 0.0   0.0  1.0"
      ]
     },
     "execution_count": 35,
     "metadata": {},
     "output_type": "execute_result"
    }
   ],
   "source": [
    "L'"
   ]
  },
  {
   "cell_type": "code",
   "execution_count": 11,
   "metadata": {},
   "outputs": [
    {
     "data": {
      "text/plain": [
       "true"
      ]
     },
     "execution_count": 11,
     "metadata": {},
     "output_type": "execute_result"
    }
   ],
   "source": [
    "D⁻¹*U == L'"
   ]
  },
  {
   "cell_type": "code",
   "execution_count": 12,
   "metadata": {},
   "outputs": [
    {
     "data": {
      "text/plain": [
       "3×3 Array{Float64,2}:\n",
       "  3.0  -3.0   3.0\n",
       " -3.0   5.0   1.0\n",
       "  3.0   1.0  10.0"
      ]
     },
     "execution_count": 12,
     "metadata": {},
     "output_type": "execute_result"
    }
   ],
   "source": [
    "L*D*L'"
   ]
  },
  {
   "cell_type": "code",
   "execution_count": 13,
   "metadata": {},
   "outputs": [
    {
     "data": {
      "text/plain": [
       "3×3 Array{Float64,2}:\n",
       "  3.0  -3.0   3.0\n",
       " -3.0   5.0   1.0\n",
       "  3.0   1.0  10.0"
      ]
     },
     "execution_count": 13,
     "metadata": {},
     "output_type": "execute_result"
    }
   ],
   "source": [
    "A"
   ]
  },
  {
   "cell_type": "code",
   "execution_count": 14,
   "metadata": {},
   "outputs": [
    {
     "data": {
      "text/plain": [
       "true"
      ]
     },
     "execution_count": 14,
     "metadata": {},
     "output_type": "execute_result"
    }
   ],
   "source": [
    "L*D*L' == A"
   ]
  },
  {
   "cell_type": "markdown",
   "metadata": {},
   "source": [
    "# Factorización LU via `lufact`"
   ]
  },
  {
   "cell_type": "code",
   "execution_count": 39,
   "metadata": {},
   "outputs": [
    {
     "name": "stdout",
     "output_type": "stream",
     "text": [
      "search: \u001b[1ml\u001b[22m\u001b[1mu\u001b[22m\u001b[1mf\u001b[22m\u001b[1ma\u001b[22m\u001b[1mc\u001b[22m\u001b[1mt\u001b[22m \u001b[1ml\u001b[22m\u001b[1mu\u001b[22m\u001b[1mf\u001b[22m\u001b[1ma\u001b[22m\u001b[1mc\u001b[22m\u001b[1mt\u001b[22m!\n",
      "\n"
     ]
    },
    {
     "data": {
      "text/markdown": [
       "```\n",
       "lufact(A [,pivot=Val{true}]) -> F::LU\n",
       "```\n",
       "\n",
       "Compute the LU factorization of `A`.\n",
       "\n",
       "In most cases, if `A` is a subtype `S` of `AbstractMatrix{T}` with an element type `T` supporting `+`, `-`, `*` and `/`, the return type is `LU{T,S{T}}`. If pivoting is chosen (default) the element type should also support `abs` and `<`.\n",
       "\n",
       "The individual components of the factorization `F` can be accessed by indexing:\n",
       "\n",
       "| Component | Description                         |\n",
       "|:--------- |:----------------------------------- |\n",
       "| `F[:L]`   | `L` (lower triangular) part of `LU` |\n",
       "| `F[:U]`   | `U` (upper triangular) part of `LU` |\n",
       "| `F[:p]`   | (right) permutation `Vector`        |\n",
       "| `F[:P]`   | (right) permutation `Matrix`        |\n",
       "\n",
       "The relationship between `F` and `A` is\n",
       "\n",
       "`F[:L]*F[:U] == A[F[:p], :]`\n",
       "\n",
       "`F` further supports the following functions:\n",
       "\n",
       "| Supported function  | `LU` | `LU{T,Tridiagonal{T}}` |\n",
       "|:------------------- |:---- |:---------------------- |\n",
       "| [`/`](@ref)         | ✓    |                        |\n",
       "| [`\\`](@ref)         | ✓    | ✓                      |\n",
       "| [`cond`](@ref)      | ✓    |                        |\n",
       "| [`inv`](@ref)       | ✓    | ✓                      |\n",
       "| [`det`](@ref)       | ✓    | ✓                      |\n",
       "| [`logdet`](@ref)    | ✓    | ✓                      |\n",
       "| [`logabsdet`](@ref) | ✓    | ✓                      |\n",
       "| [`size`](@ref)      | ✓    | ✓                      |\n",
       "\n",
       "# Example\n",
       "\n",
       "```jldoctest\n",
       "julia> A = [4 3; 6 3]\n",
       "2×2 Array{Int64,2}:\n",
       " 4  3\n",
       " 6  3\n",
       "\n",
       "julia> F = lufact(A)\n",
       "Base.LinAlg.LU{Float64,Array{Float64,2}} with factors L and U:\n",
       "[1.0 0.0; 1.5 1.0]\n",
       "[4.0 3.0; 0.0 -1.5]\n",
       "\n",
       "julia> F[:L] * F[:U] == A[F[:p], :]\n",
       "true\n",
       "```\n",
       "\n",
       "```\n",
       "lufact(A::SparseMatrixCSC) -> F::UmfpackLU\n",
       "```\n",
       "\n",
       "Compute the LU factorization of a sparse matrix `A`.\n",
       "\n",
       "For sparse `A` with real or complex element type, the return type of `F` is `UmfpackLU{Tv, Ti}`, with `Tv` = [`Float64`](@ref) or `Complex128` respectively and `Ti` is an integer type ([`Int32`](@ref) or [`Int64`](@ref)).\n",
       "\n",
       "The individual components of the factorization `F` can be accessed by indexing:\n",
       "\n",
       "| Component | Description                         |\n",
       "|:--------- |:----------------------------------- |\n",
       "| `F[:L]`   | `L` (lower triangular) part of `LU` |\n",
       "| `F[:U]`   | `U` (upper triangular) part of `LU` |\n",
       "| `F[:p]`   | right permutation `Vector`          |\n",
       "| `F[:q]`   | left permutation `Vector`           |\n",
       "| `F[:Rs]`  | `Vector` of scaling factors         |\n",
       "| `F[:(:)]` | `(L,U,p,q,Rs)` components           |\n",
       "\n",
       "The relation between `F` and `A` is\n",
       "\n",
       "`F[:L]*F[:U] == (F[:Rs] .* A)[F[:p], F[:q]]`\n",
       "\n",
       "`F` further supports the following functions:\n",
       "\n",
       "  * [`\\`](@ref)\n",
       "  * [`cond`](@ref)\n",
       "  * [`det`](@ref)\n",
       "\n",
       "!!! note\n",
       "    `lufact(A::SparseMatrixCSC)` uses the UMFPACK library that is part of SuiteSparse. As this library only supports sparse matrices with [`Float64`](@ref) or `Complex128` elements, `lufact` converts `A` into a copy that is of type `SparseMatrixCSC{Float64}` or `SparseMatrixCSC{Complex128}` as appropriate.\n",
       "\n"
      ],
      "text/plain": [
       "```\n",
       "lufact(A [,pivot=Val{true}]) -> F::LU\n",
       "```\n",
       "\n",
       "Compute the LU factorization of `A`.\n",
       "\n",
       "In most cases, if `A` is a subtype `S` of `AbstractMatrix{T}` with an element type `T` supporting `+`, `-`, `*` and `/`, the return type is `LU{T,S{T}}`. If pivoting is chosen (default) the element type should also support `abs` and `<`.\n",
       "\n",
       "The individual components of the factorization `F` can be accessed by indexing:\n",
       "\n",
       "| Component | Description                         |\n",
       "|:--------- |:----------------------------------- |\n",
       "| `F[:L]`   | `L` (lower triangular) part of `LU` |\n",
       "| `F[:U]`   | `U` (upper triangular) part of `LU` |\n",
       "| `F[:p]`   | (right) permutation `Vector`        |\n",
       "| `F[:P]`   | (right) permutation `Matrix`        |\n",
       "\n",
       "The relationship between `F` and `A` is\n",
       "\n",
       "`F[:L]*F[:U] == A[F[:p], :]`\n",
       "\n",
       "`F` further supports the following functions:\n",
       "\n",
       "| Supported function  | `LU` | `LU{T,Tridiagonal{T}}` |\n",
       "|:------------------- |:---- |:---------------------- |\n",
       "| [`/`](@ref)         | ✓    |                        |\n",
       "| [`\\`](@ref)         | ✓    | ✓                      |\n",
       "| [`cond`](@ref)      | ✓    |                        |\n",
       "| [`inv`](@ref)       | ✓    | ✓                      |\n",
       "| [`det`](@ref)       | ✓    | ✓                      |\n",
       "| [`logdet`](@ref)    | ✓    | ✓                      |\n",
       "| [`logabsdet`](@ref) | ✓    | ✓                      |\n",
       "| [`size`](@ref)      | ✓    | ✓                      |\n",
       "\n",
       "# Example\n",
       "\n",
       "```jldoctest\n",
       "julia> A = [4 3; 6 3]\n",
       "2×2 Array{Int64,2}:\n",
       " 4  3\n",
       " 6  3\n",
       "\n",
       "julia> F = lufact(A)\n",
       "Base.LinAlg.LU{Float64,Array{Float64,2}} with factors L and U:\n",
       "[1.0 0.0; 1.5 1.0]\n",
       "[4.0 3.0; 0.0 -1.5]\n",
       "\n",
       "julia> F[:L] * F[:U] == A[F[:p], :]\n",
       "true\n",
       "```\n",
       "\n",
       "```\n",
       "lufact(A::SparseMatrixCSC) -> F::UmfpackLU\n",
       "```\n",
       "\n",
       "Compute the LU factorization of a sparse matrix `A`.\n",
       "\n",
       "For sparse `A` with real or complex element type, the return type of `F` is `UmfpackLU{Tv, Ti}`, with `Tv` = [`Float64`](@ref) or `Complex128` respectively and `Ti` is an integer type ([`Int32`](@ref) or [`Int64`](@ref)).\n",
       "\n",
       "The individual components of the factorization `F` can be accessed by indexing:\n",
       "\n",
       "| Component | Description                         |\n",
       "|:--------- |:----------------------------------- |\n",
       "| `F[:L]`   | `L` (lower triangular) part of `LU` |\n",
       "| `F[:U]`   | `U` (upper triangular) part of `LU` |\n",
       "| `F[:p]`   | right permutation `Vector`          |\n",
       "| `F[:q]`   | left permutation `Vector`           |\n",
       "| `F[:Rs]`  | `Vector` of scaling factors         |\n",
       "| `F[:(:)]` | `(L,U,p,q,Rs)` components           |\n",
       "\n",
       "The relation between `F` and `A` is\n",
       "\n",
       "`F[:L]*F[:U] == (F[:Rs] .* A)[F[:p], F[:q]]`\n",
       "\n",
       "`F` further supports the following functions:\n",
       "\n",
       "  * [`\\`](@ref)\n",
       "  * [`cond`](@ref)\n",
       "  * [`det`](@ref)\n",
       "\n",
       "!!! note\n",
       "    `lufact(A::SparseMatrixCSC)` uses the UMFPACK library that is part of SuiteSparse. As this library only supports sparse matrices with [`Float64`](@ref) or `Complex128` elements, `lufact` converts `A` into a copy that is of type `SparseMatrixCSC{Float64}` or `SparseMatrixCSC{Complex128}` as appropriate.\n",
       "\n"
      ]
     },
     "execution_count": 39,
     "metadata": {},
     "output_type": "execute_result"
    }
   ],
   "source": [
    "?lufact"
   ]
  },
  {
   "cell_type": "code",
   "execution_count": 15,
   "metadata": {},
   "outputs": [],
   "source": [
    "F = lufact(A, Val{false});"
   ]
  },
  {
   "cell_type": "code",
   "execution_count": 16,
   "metadata": {},
   "outputs": [
    {
     "data": {
      "text/plain": [
       "3×3 Array{Float64,2}:\n",
       "  1.0  0.0  0.0\n",
       " -1.0  1.0  0.0\n",
       "  1.0  2.0  1.0"
      ]
     },
     "execution_count": 16,
     "metadata": {},
     "output_type": "execute_result"
    }
   ],
   "source": [
    "F[:L]"
   ]
  },
  {
   "cell_type": "code",
   "execution_count": 19,
   "metadata": {},
   "outputs": [
    {
     "data": {
      "text/plain": [
       "3×3 Array{Float64,2}:\n",
       "  1.0  0.0  0.0\n",
       " -1.0  1.0  0.0\n",
       "  1.0  2.0  1.0"
      ]
     },
     "execution_count": 19,
     "metadata": {},
     "output_type": "execute_result"
    }
   ],
   "source": [
    "L"
   ]
  },
  {
   "cell_type": "code",
   "execution_count": 17,
   "metadata": {},
   "outputs": [
    {
     "data": {
      "text/plain": [
       "3×3 Array{Float64,2}:\n",
       " 3.0  -3.0   3.0\n",
       " 0.0   2.0   4.0\n",
       " 0.0   0.0  -1.0"
      ]
     },
     "execution_count": 17,
     "metadata": {},
     "output_type": "execute_result"
    }
   ],
   "source": [
    "F[:U]"
   ]
  },
  {
   "cell_type": "code",
   "execution_count": 20,
   "metadata": {},
   "outputs": [
    {
     "data": {
      "text/plain": [
       "3×3 Array{Float64,2}:\n",
       " 3.0  -3.0   3.0\n",
       " 0.0   2.0   4.0\n",
       " 0.0   0.0  -1.0"
      ]
     },
     "execution_count": 20,
     "metadata": {},
     "output_type": "execute_result"
    }
   ],
   "source": [
    "U"
   ]
  },
  {
   "cell_type": "code",
   "execution_count": 21,
   "metadata": {},
   "outputs": [
    {
     "data": {
      "text/plain": [
       "3×3 Array{Float64,2}:\n",
       " 1.0  0.0  0.0\n",
       " 0.0  1.0  0.0\n",
       " 0.0  0.0  1.0"
      ]
     },
     "execution_count": 21,
     "metadata": {},
     "output_type": "execute_result"
    }
   ],
   "source": [
    "F[:P]"
   ]
  },
  {
   "cell_type": "markdown",
   "metadata": {},
   "source": [
    "**Por defecto `lufact`realiza pivoteo**"
   ]
  },
  {
   "cell_type": "code",
   "execution_count": 25,
   "metadata": {},
   "outputs": [
    {
     "data": {
      "text/plain": [
       "3×3 Array{Float64,2}:\n",
       " 1.0  0.0  0.0\n",
       " 0.0  0.0  1.0\n",
       " 0.0  1.0  0.0"
      ]
     },
     "execution_count": 25,
     "metadata": {},
     "output_type": "execute_result"
    }
   ],
   "source": [
    "F₂ = lufact(A);\n",
    "F₂[:P]"
   ]
  },
  {
   "cell_type": "markdown",
   "metadata": {},
   "source": [
    " # Factorización de Cholesky"
   ]
  },
  {
   "cell_type": "code",
   "execution_count": 2,
   "metadata": {},
   "outputs": [
    {
     "name": "stdout",
     "output_type": "stream",
     "text": [
      "search: \u001b[1mc\u001b[22m\u001b[1mh\u001b[22m\u001b[1mo\u001b[22m\u001b[1ml\u001b[22m \u001b[1mc\u001b[22m\u001b[1mh\u001b[22m\u001b[1mo\u001b[22m\u001b[1ml\u001b[22mfact \u001b[1mc\u001b[22m\u001b[1mh\u001b[22m\u001b[1mo\u001b[22m\u001b[1ml\u001b[22mfact! sear\u001b[1mc\u001b[22m\u001b[1mh\u001b[22ms\u001b[1mo\u001b[22mrted\u001b[1ml\u001b[22mast \u001b[1mC\u001b[22mac\u001b[1mh\u001b[22mingP\u001b[1mo\u001b[22mo\u001b[1ml\u001b[22m \u001b[1mc\u001b[22m\u001b[1mh\u001b[22m\u001b[1mo\u001b[22mp \u001b[1mc\u001b[22m\u001b[1mh\u001b[22m\u001b[1mo\u001b[22mwn \u001b[1mc\u001b[22m\u001b[1mh\u001b[22m\u001b[1mo\u001b[22mmp\n",
      "\n"
     ]
    },
    {
     "data": {
      "text/markdown": [
       "```\n",
       "chol(A) -> U\n",
       "```\n",
       "\n",
       "Compute the Cholesky factorization of a positive definite matrix `A` and return the [`UpperTriangular`](@ref) matrix `U` such that `A = U'U`.\n",
       "\n",
       "# Example\n",
       "\n",
       "```jldoctest\n",
       "julia> A = [1. 2.; 2. 50.]\n",
       "2×2 Array{Float64,2}:\n",
       " 1.0   2.0\n",
       " 2.0  50.0\n",
       "\n",
       "julia> U = chol(A)\n",
       "2×2 UpperTriangular{Float64,Array{Float64,2}}:\n",
       " 1.0  2.0\n",
       "  ⋅   6.78233\n",
       "\n",
       "julia> U'U\n",
       "2×2 Array{Float64,2}:\n",
       " 1.0   2.0\n",
       " 2.0  50.0\n",
       "```\n",
       "\n",
       "```\n",
       "chol(x::Number) -> y\n",
       "```\n",
       "\n",
       "Compute the square root of a non-negative number `x`.\n",
       "\n",
       "# Example\n",
       "\n",
       "```jldoctest\n",
       "julia> chol(16)\n",
       "4.0\n",
       "```\n"
      ],
      "text/plain": [
       "```\n",
       "chol(A) -> U\n",
       "```\n",
       "\n",
       "Compute the Cholesky factorization of a positive definite matrix `A` and return the [`UpperTriangular`](@ref) matrix `U` such that `A = U'U`.\n",
       "\n",
       "# Example\n",
       "\n",
       "```jldoctest\n",
       "julia> A = [1. 2.; 2. 50.]\n",
       "2×2 Array{Float64,2}:\n",
       " 1.0   2.0\n",
       " 2.0  50.0\n",
       "\n",
       "julia> U = chol(A)\n",
       "2×2 UpperTriangular{Float64,Array{Float64,2}}:\n",
       " 1.0  2.0\n",
       "  ⋅   6.78233\n",
       "\n",
       "julia> U'U\n",
       "2×2 Array{Float64,2}:\n",
       " 1.0   2.0\n",
       " 2.0  50.0\n",
       "```\n",
       "\n",
       "```\n",
       "chol(x::Number) -> y\n",
       "```\n",
       "\n",
       "Compute the square root of a non-negative number `x`.\n",
       "\n",
       "# Example\n",
       "\n",
       "```jldoctest\n",
       "julia> chol(16)\n",
       "4.0\n",
       "```\n"
      ]
     },
     "execution_count": 2,
     "metadata": {},
     "output_type": "execute_result"
    }
   ],
   "source": [
    "?chol"
   ]
  },
  {
   "cell_type": "code",
   "execution_count": 5,
   "metadata": {},
   "outputs": [
    {
     "data": {
      "text/plain": [
       "3×3 Array{Float64,2}:\n",
       "  2.76178   -0.404342   0.635005\n",
       " -0.404342   8.20569   -0.617677\n",
       "  0.635005  -0.617677   2.01236 "
      ]
     },
     "execution_count": 5,
     "metadata": {},
     "output_type": "execute_result"
    }
   ],
   "source": [
    "A = randn(5,3);\n",
    "B = A'A"
   ]
  },
  {
   "cell_type": "code",
   "execution_count": 8,
   "metadata": {},
   "outputs": [
    {
     "data": {
      "text/plain": [
       "3×3 LowerTriangular{Float64,Array{Float64,2}}:\n",
       "  1.66186     ⋅         ⋅     \n",
       " -0.243307   2.85421    ⋅     \n",
       "  0.382105  -0.183837  1.35372"
      ]
     },
     "execution_count": 8,
     "metadata": {},
     "output_type": "execute_result"
    }
   ],
   "source": [
    "L = chol(B)'"
   ]
  },
  {
   "cell_type": "code",
   "execution_count": 10,
   "metadata": {},
   "outputs": [
    {
     "data": {
      "text/plain": [
       "3×3 Array{Float64,2}:\n",
       "  2.76178   -0.404342   0.635005\n",
       " -0.404342   8.20569   -0.617677\n",
       "  0.635005  -0.617677   2.01236 "
      ]
     },
     "execution_count": 10,
     "metadata": {},
     "output_type": "execute_result"
    }
   ],
   "source": [
    "L*L'"
   ]
  },
  {
   "cell_type": "code",
   "execution_count": 35,
   "metadata": {},
   "outputs": [
    {
     "data": {
      "text/plain": [
       "2×2 Array{Float64,2}:\n",
       "  5.0  10.0\n",
       " 10.0  20.0"
      ]
     },
     "execution_count": 35,
     "metadata": {},
     "output_type": "execute_result"
    }
   ],
   "source": [
    "A₂ = [1.0 2.0; 2.0 4.0];\n",
    "B₂ = A₂'A₂"
   ]
  },
  {
   "cell_type": "code",
   "execution_count": 36,
   "metadata": {},
   "outputs": [
    {
     "ename": "LoadError",
     "evalue": "\u001b[91mBase.LinAlg.PosDefException(2)\u001b[39m",
     "output_type": "error",
     "traceback": [
      "\u001b[91mBase.LinAlg.PosDefException(2)\u001b[39m",
      "",
      "Stacktrace:",
      " [1] \u001b[1m_chol!\u001b[22m\u001b[22m\u001b[1m(\u001b[22m\u001b[22m::Array{Float64,2}, ::Type{UpperTriangular}\u001b[1m)\u001b[22m\u001b[22m at \u001b[1m./linalg/cholesky.jl:55\u001b[22m\u001b[22m",
      " [2] \u001b[1mchol!\u001b[22m\u001b[22m\u001b[1m(\u001b[22m\u001b[22m::Hermitian{Float64,Array{Float64,2}}\u001b[1m)\u001b[22m\u001b[22m at \u001b[1m./linalg/cholesky.jl:124\u001b[22m\u001b[22m",
      " [3] \u001b[1mchol\u001b[22m\u001b[22m\u001b[1m(\u001b[22m\u001b[22m::Hermitian{Float64,Array{Float64,2}}\u001b[1m)\u001b[22m\u001b[22m at \u001b[1m./linalg/cholesky.jl:145\u001b[22m\u001b[22m",
      " [4] \u001b[1mchol\u001b[22m\u001b[22m\u001b[1m(\u001b[22m\u001b[22m::Array{Float64,2}\u001b[1m)\u001b[22m\u001b[22m at \u001b[1m./linalg/cholesky.jl:186\u001b[22m\u001b[22m",
      " [5] \u001b[1minclude_string\u001b[22m\u001b[22m\u001b[1m(\u001b[22m\u001b[22m::String, ::String\u001b[1m)\u001b[22m\u001b[22m at \u001b[1m./loading.jl:522\u001b[22m\u001b[22m"
     ]
    }
   ],
   "source": [
    "L₂ = chol(B₂)'"
   ]
  },
  {
   "cell_type": "code",
   "execution_count": 4,
   "metadata": {},
   "outputs": [
    {
     "name": "stdout",
     "output_type": "stream",
     "text": [
      "search: \u001b[1mc\u001b[22m\u001b[1mh\u001b[22m\u001b[1mo\u001b[22m\u001b[1ml\u001b[22m\u001b[1mf\u001b[22m\u001b[1ma\u001b[22m\u001b[1mc\u001b[22m\u001b[1mt\u001b[22m \u001b[1mc\u001b[22m\u001b[1mh\u001b[22m\u001b[1mo\u001b[22m\u001b[1ml\u001b[22m\u001b[1mf\u001b[22m\u001b[1ma\u001b[22m\u001b[1mc\u001b[22m\u001b[1mt\u001b[22m!\n",
      "\n"
     ]
    },
    {
     "data": {
      "text/markdown": [
       "```\n",
       "cholfact(A, [uplo::Symbol,] Val{false}) -> Cholesky\n",
       "```\n",
       "\n",
       "Compute the Cholesky factorization of a dense symmetric positive definite matrix `A` and return a `Cholesky` factorization. The matrix `A` can either be a [`Symmetric`](@ref) or [`Hermitian`](@ref) `StridedMatrix` or a *perfectly* symmetric or Hermitian `StridedMatrix`. In the latter case, the optional argument `uplo` may be `:L` for using the lower part or `:U` for the upper part of `A`. The default is to use `:U`. The triangular Cholesky factor can be obtained from the factorization `F` with: `F[:L]` and `F[:U]`. The following functions are available for `Cholesky` objects: [`size`](@ref), [`\\`](@ref), [`inv`](@ref), and [`det`](@ref). A `PosDefException` exception is thrown in case the matrix is not positive definite.\n",
       "\n",
       "# Example\n",
       "\n",
       "```jldoctest\n",
       "julia> A = [4. 12. -16.; 12. 37. -43.; -16. -43. 98.]\n",
       "3×3 Array{Float64,2}:\n",
       "   4.0   12.0  -16.0\n",
       "  12.0   37.0  -43.0\n",
       " -16.0  -43.0   98.0\n",
       "\n",
       "julia> C = cholfact(A)\n",
       "Base.LinAlg.Cholesky{Float64,Array{Float64,2}} with factor:\n",
       "[2.0 6.0 -8.0; 0.0 1.0 5.0; 0.0 0.0 3.0]\n",
       "\n",
       "julia> C[:U]\n",
       "3×3 UpperTriangular{Float64,Array{Float64,2}}:\n",
       " 2.0  6.0  -8.0\n",
       "  ⋅   1.0   5.0\n",
       "  ⋅    ⋅    3.0\n",
       "\n",
       "julia> C[:L]\n",
       "3×3 LowerTriangular{Float64,Array{Float64,2}}:\n",
       "  2.0   ⋅    ⋅\n",
       "  6.0  1.0   ⋅\n",
       " -8.0  5.0  3.0\n",
       "\n",
       "julia> C[:L] * C[:U] == A\n",
       "true\n",
       "```\n",
       "\n",
       "```\n",
       "cholfact(A, [uplo::Symbol,] Val{true}; tol = 0.0) -> CholeskyPivoted\n",
       "```\n",
       "\n",
       "Compute the pivoted Cholesky factorization of a dense symmetric positive semi-definite matrix `A` and return a `CholeskyPivoted` factorization. The matrix `A` can either be a [`Symmetric`](@ref) or [`Hermitian`](@ref) `StridedMatrix` or a *perfectly* symmetric or Hermitian `StridedMatrix`. In the latter case, the optional argument `uplo` may be `:L` for using the lower part or `:U` for the upper part of `A`. The default is to use `:U`. The triangular Cholesky factor can be obtained from the factorization `F` with: `F[:L]` and `F[:U]`. The following functions are available for `PivotedCholesky` objects: [`size`](@ref), [`\\`](@ref), [`inv`](@ref), [`det`](@ref), and [`rank`](@ref). The argument `tol` determines the tolerance for determining the rank. For negative values, the tolerance is the machine precision.\n",
       "\n",
       "```\n",
       "cholfact(A; shift = 0.0, perm = Int[]) -> CHOLMOD.Factor\n",
       "```\n",
       "\n",
       "Compute the Cholesky factorization of a sparse positive definite matrix `A`. `A` must be a [`SparseMatrixCSC`](@ref) or a [`Symmetric`](@ref)/[`Hermitian`](@ref) view of a `SparseMatrixCSC`. Note that even if `A` doesn't have the type tag, it must still be symmetric or Hermitian. A fill-reducing permutation is used. `F = cholfact(A)` is most frequently used to solve systems of equations with `F\\b`, but also the methods [`diag`](@ref), [`det`](@ref), and [`logdet`](@ref) are defined for `F`. You can also extract individual factors from `F`, using `F[:L]`. However, since pivoting is on by default, the factorization is internally represented as `A == P'*L*L'*P` with a permutation matrix `P`; using just `L` without accounting for `P` will give incorrect answers. To include the effects of permutation, it's typically preferable to extract \"combined\" factors like `PtL = F[:PtL]` (the equivalent of `P'*L`) and `LtP = F[:UP]` (the equivalent of `L'*P`).\n",
       "\n",
       "Setting the optional `shift` keyword argument computes the factorization of `A+shift*I` instead of `A`. If the `perm` argument is nonempty, it should be a permutation of `1:size(A,1)` giving the ordering to use (instead of CHOLMOD's default AMD ordering).\n",
       "\n",
       "!!! note\n",
       "    This method uses the CHOLMOD library from SuiteSparse, which only supports doubles or complex doubles. Input matrices not of those element types will be converted to `SparseMatrixCSC{Float64}` or `SparseMatrixCSC{Complex128}` as appropriate.\n",
       "\n",
       "    Many other functions from CHOLMOD are wrapped but not exported from the `Base.SparseArrays.CHOLMOD` module.\n",
       "\n"
      ],
      "text/plain": [
       "```\n",
       "cholfact(A, [uplo::Symbol,] Val{false}) -> Cholesky\n",
       "```\n",
       "\n",
       "Compute the Cholesky factorization of a dense symmetric positive definite matrix `A` and return a `Cholesky` factorization. The matrix `A` can either be a [`Symmetric`](@ref) or [`Hermitian`](@ref) `StridedMatrix` or a *perfectly* symmetric or Hermitian `StridedMatrix`. In the latter case, the optional argument `uplo` may be `:L` for using the lower part or `:U` for the upper part of `A`. The default is to use `:U`. The triangular Cholesky factor can be obtained from the factorization `F` with: `F[:L]` and `F[:U]`. The following functions are available for `Cholesky` objects: [`size`](@ref), [`\\`](@ref), [`inv`](@ref), and [`det`](@ref). A `PosDefException` exception is thrown in case the matrix is not positive definite.\n",
       "\n",
       "# Example\n",
       "\n",
       "```jldoctest\n",
       "julia> A = [4. 12. -16.; 12. 37. -43.; -16. -43. 98.]\n",
       "3×3 Array{Float64,2}:\n",
       "   4.0   12.0  -16.0\n",
       "  12.0   37.0  -43.0\n",
       " -16.0  -43.0   98.0\n",
       "\n",
       "julia> C = cholfact(A)\n",
       "Base.LinAlg.Cholesky{Float64,Array{Float64,2}} with factor:\n",
       "[2.0 6.0 -8.0; 0.0 1.0 5.0; 0.0 0.0 3.0]\n",
       "\n",
       "julia> C[:U]\n",
       "3×3 UpperTriangular{Float64,Array{Float64,2}}:\n",
       " 2.0  6.0  -8.0\n",
       "  ⋅   1.0   5.0\n",
       "  ⋅    ⋅    3.0\n",
       "\n",
       "julia> C[:L]\n",
       "3×3 LowerTriangular{Float64,Array{Float64,2}}:\n",
       "  2.0   ⋅    ⋅\n",
       "  6.0  1.0   ⋅\n",
       " -8.0  5.0  3.0\n",
       "\n",
       "julia> C[:L] * C[:U] == A\n",
       "true\n",
       "```\n",
       "\n",
       "```\n",
       "cholfact(A, [uplo::Symbol,] Val{true}; tol = 0.0) -> CholeskyPivoted\n",
       "```\n",
       "\n",
       "Compute the pivoted Cholesky factorization of a dense symmetric positive semi-definite matrix `A` and return a `CholeskyPivoted` factorization. The matrix `A` can either be a [`Symmetric`](@ref) or [`Hermitian`](@ref) `StridedMatrix` or a *perfectly* symmetric or Hermitian `StridedMatrix`. In the latter case, the optional argument `uplo` may be `:L` for using the lower part or `:U` for the upper part of `A`. The default is to use `:U`. The triangular Cholesky factor can be obtained from the factorization `F` with: `F[:L]` and `F[:U]`. The following functions are available for `PivotedCholesky` objects: [`size`](@ref), [`\\`](@ref), [`inv`](@ref), [`det`](@ref), and [`rank`](@ref). The argument `tol` determines the tolerance for determining the rank. For negative values, the tolerance is the machine precision.\n",
       "\n",
       "```\n",
       "cholfact(A; shift = 0.0, perm = Int[]) -> CHOLMOD.Factor\n",
       "```\n",
       "\n",
       "Compute the Cholesky factorization of a sparse positive definite matrix `A`. `A` must be a [`SparseMatrixCSC`](@ref) or a [`Symmetric`](@ref)/[`Hermitian`](@ref) view of a `SparseMatrixCSC`. Note that even if `A` doesn't have the type tag, it must still be symmetric or Hermitian. A fill-reducing permutation is used. `F = cholfact(A)` is most frequently used to solve systems of equations with `F\\b`, but also the methods [`diag`](@ref), [`det`](@ref), and [`logdet`](@ref) are defined for `F`. You can also extract individual factors from `F`, using `F[:L]`. However, since pivoting is on by default, the factorization is internally represented as `A == P'*L*L'*P` with a permutation matrix `P`; using just `L` without accounting for `P` will give incorrect answers. To include the effects of permutation, it's typically preferable to extract \"combined\" factors like `PtL = F[:PtL]` (the equivalent of `P'*L`) and `LtP = F[:UP]` (the equivalent of `L'*P`).\n",
       "\n",
       "Setting the optional `shift` keyword argument computes the factorization of `A+shift*I` instead of `A`. If the `perm` argument is nonempty, it should be a permutation of `1:size(A,1)` giving the ordering to use (instead of CHOLMOD's default AMD ordering).\n",
       "\n",
       "!!! note\n",
       "    This method uses the CHOLMOD library from SuiteSparse, which only supports doubles or complex doubles. Input matrices not of those element types will be converted to `SparseMatrixCSC{Float64}` or `SparseMatrixCSC{Complex128}` as appropriate.\n",
       "\n",
       "    Many other functions from CHOLMOD are wrapped but not exported from the `Base.SparseArrays.CHOLMOD` module.\n",
       "\n"
      ]
     },
     "execution_count": 4,
     "metadata": {},
     "output_type": "execute_result"
    }
   ],
   "source": [
    "?cholfact"
   ]
  },
  {
   "cell_type": "code",
   "execution_count": 37,
   "metadata": {},
   "outputs": [
    {
     "data": {
      "text/plain": [
       "3×3 Array{Float64,2}:\n",
       "   4.0   12.0  -16.0\n",
       "  12.0   37.0  -43.0\n",
       " -16.0  -43.0   98.0"
      ]
     },
     "execution_count": 37,
     "metadata": {},
     "output_type": "execute_result"
    }
   ],
   "source": [
    "M = [4. 12. -16.; 12. 37. -43.; -16. -43. 98.]"
   ]
  },
  {
   "cell_type": "code",
   "execution_count": 38,
   "metadata": {},
   "outputs": [
    {
     "data": {
      "text/plain": [
       "3×3 LowerTriangular{Float64,Array{Float64,2}}:\n",
       "  2.0   ⋅    ⋅ \n",
       "  6.0  1.0   ⋅ \n",
       " -8.0  5.0  3.0"
      ]
     },
     "execution_count": 38,
     "metadata": {},
     "output_type": "execute_result"
    }
   ],
   "source": [
    "C = cholfact(M);\n",
    "C[:L]"
   ]
  },
  {
   "cell_type": "code",
   "execution_count": 39,
   "metadata": {},
   "outputs": [
    {
     "data": {
      "text/plain": [
       "3×3 Array{Float64,2}:\n",
       "   4.0   12.0  -16.0\n",
       "  12.0   37.0  -43.0\n",
       " -16.0  -43.0   98.0"
      ]
     },
     "execution_count": 39,
     "metadata": {},
     "output_type": "execute_result"
    }
   ],
   "source": [
    "C[:L]*C[:L]'"
   ]
  },
  {
   "cell_type": "code",
   "execution_count": 40,
   "metadata": {},
   "outputs": [
    {
     "data": {
      "text/plain": [
       "3-element Array{Float64,1}:\n",
       "  37.9167 \n",
       " -10.3333 \n",
       "   1.66667"
      ]
     },
     "execution_count": 40,
     "metadata": {},
     "output_type": "execute_result"
    }
   ],
   "source": [
    "y = C[:L]\\ones(3)\n",
    "x = C[:L]'\\y"
   ]
  },
  {
   "cell_type": "code",
   "execution_count": 41,
   "metadata": {},
   "outputs": [
    {
     "data": {
      "text/plain": [
       "3-element Array{Float64,1}:\n",
       "  37.9167 \n",
       " -10.3333 \n",
       "   1.66667"
      ]
     },
     "execution_count": 41,
     "metadata": {},
     "output_type": "execute_result"
    }
   ],
   "source": [
    "M\\ones(3)"
   ]
  },
  {
   "cell_type": "code",
   "execution_count": null,
   "metadata": {},
   "outputs": [],
   "source": []
  }
 ],
 "metadata": {
  "kernelspec": {
   "display_name": "Julia 0.6.2",
   "language": "julia",
   "name": "julia-0.6"
  },
  "language_info": {
   "file_extension": ".jl",
   "mimetype": "application/julia",
   "name": "julia",
   "version": "0.6.2"
  }
 },
 "nbformat": 4,
 "nbformat_minor": 2
}
