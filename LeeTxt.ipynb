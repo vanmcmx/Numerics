{
 "cells": [
  {
   "cell_type": "markdown",
   "metadata": {},
   "source": [
    "# <font color = blue> Leer archivos de texto </font>\n",
    "\n",
    "## Ejemplo 1"
   ]
  },
  {
   "cell_type": "markdown",
   "metadata": {},
   "source": [
    "Usa `Gtk` para crear interfaz gráfica"
   ]
  },
  {
   "cell_type": "code",
   "execution_count": 16,
   "metadata": {},
   "outputs": [
    {
     "name": "stderr",
     "output_type": "stream",
     "text": [
      "\u001b[1m\u001b[36mINFO: \u001b[39m\u001b[22m\u001b[36mPackage Gtk is already installed\n",
      "\u001b[39m\u001b[1m\u001b[36mINFO: \u001b[39m\u001b[22m\u001b[36mMETADATA is out-of-date — you may not have the latest version of Gtk\n",
      "\u001b[39m\u001b[1m\u001b[36mINFO: \u001b[39m\u001b[22m\u001b[36mUse `Pkg.update()` to get the latest versions of your packages\n",
      "\u001b[39m"
     ]
    }
   ],
   "source": [
    "Pkg.add(\"Gtk\")"
   ]
  },
  {
   "cell_type": "markdown",
   "metadata": {},
   "source": [
    "Abre una ventana que muestre solo los archivos con la terminación `.txt`\n",
    "mediante `Gtk.GtkFileChooserDialog` y `Gtk.ShortNames`"
   ]
  },
  {
   "cell_type": "code",
   "execution_count": 1,
   "metadata": {
    "collapsed": true
   },
   "outputs": [
    {
     "name": "stderr",
     "output_type": "stream",
     "text": [
      "\n",
      "(julia:3875): Gtk-WARNING **: Theme parsing error: gtk-widgets.css:186:14: not a number\n",
      "\n",
      "(julia:3875): Gtk-WARNING **: Theme parsing error: gtk-widgets.css:186:14: Expected a string.\n",
      "\n",
      "(julia:3875): Gtk-WARNING **: Theme parsing error: gtk-widgets.css:2749:24: not a number\n",
      "\n",
      "(julia:3875): Gtk-WARNING **: Theme parsing error: gtk-widgets.css:2749:24: Expected a string.\n",
      "\n",
      "(julia:3875): Gtk-WARNING **: Theme parsing error: gtk-widgets.css:2940:14: not a number\n",
      "\n",
      "(julia:3875): Gtk-WARNING **: Theme parsing error: gtk-widgets.css:2940:14: Expected a string.\n",
      "\n",
      "(julia:3875): Gtk-WARNING **: Theme parsing error: gtk-widgets.css:2946:17: Expected a string.\n",
      "\n",
      "(julia:3875): Gtk-WARNING **: Theme parsing error: gtk-widgets.css:4083:14: not a number\n",
      "\n",
      "(julia:3875): Gtk-WARNING **: Theme parsing error: gtk-widgets.css:4083:14: Expected a string.\n",
      "\n",
      "(julia:3875): Gtk-WARNING **: Theme parsing error: gtk-widgets.css:4088:17: Expected a string.\n",
      "\n",
      "(julia:3875): Gtk-WARNING **: Theme parsing error: gtk-widgets.css:4729:14: not a number\n",
      "\n",
      "(julia:3875): Gtk-WARNING **: Theme parsing error: gtk-widgets.css:4729:14: Expected a string.\n",
      "\n",
      "(julia:3875): Gtk-WARNING **: Theme parsing error: xfce.css:47:16: not a number\n",
      "\n",
      "(julia:3875): Gtk-WARNING **: Theme parsing error: xfce.css:47:16: Expected a string.\n",
      "\n",
      "(julia:3875): Gtk-WARNING **: Theme parsing error: lightdm-gtk-greeter.css:16:14: not a number\n",
      "\n",
      "(julia:3875): Gtk-WARNING **: Theme parsing error: lightdm-gtk-greeter.css:16:14: Expected a string.\n",
      "\n",
      "(julia:3875): Gtk-WARNING **: Theme parsing error: lightdm-gtk-greeter.css:26:14: not a number\n",
      "\n",
      "(julia:3875): Gtk-WARNING **: Theme parsing error: lightdm-gtk-greeter.css:26:14: Expected a string.\n",
      "\n",
      "(julia:3875): Gtk-WARNING **: Theme parsing error: lightdm-gtk-greeter.css:40:16: not a number\n",
      "\n",
      "(julia:3875): Gtk-WARNING **: Theme parsing error: lightdm-gtk-greeter.css:40:16: Expected a string.\n",
      "\n",
      "(julia:3875): Gtk-WARNING **: Theme parsing error: lightdm-gtk-greeter.css:96:14: Expected a string.\n",
      "\n",
      "(julia:3875): Gtk-WARNING **: Theme parsing error: lightdm-gtk-greeter.css:100:16: not a number\n",
      "\n",
      "(julia:3875): Gtk-WARNING **: Theme parsing error: lightdm-gtk-greeter.css:100:16: Expected a string.\n",
      "\n",
      "(julia:3875): Gtk-WARNING **: Theme parsing error: lightdm-gtk-greeter.css:279:14: not a number\n",
      "\n",
      "(julia:3875): Gtk-WARNING **: Theme parsing error: lightdm-gtk-greeter.css:279:14: Expected a string.\n"
     ]
    }
   ],
   "source": [
    "using Gtk.GtkFileChooserDialog, Gtk.ShortNames;"
   ]
  },
  {
   "cell_type": "code",
   "execution_count": 2,
   "metadata": {},
   "outputs": [
    {
     "name": "stderr",
     "output_type": "stream",
     "text": [
      "Gtk-Message: GtkDialog mapped without a transient parent. This is discouraged.\n"
     ]
    }
   ],
   "source": [
    "nombre = open_dialog(\"Escoge un archivo de texto\", Null(), (\"*.txt\",));"
   ]
  },
  {
   "cell_type": "markdown",
   "metadata": {},
   "source": [
    "Muestra en un arreglo los contenidos del archivo `.txt`"
   ]
  },
  {
   "cell_type": "code",
   "execution_count": 3,
   "metadata": {
    "scrolled": false
   },
   "outputs": [
    {
     "data": {
      "text/plain": [
       "12×5 Array{Any,2}:\n",
       "  74.3   1  29  15    \"52;\"\n",
       " 104.3  11  56   8    \"20;\"\n",
       "  87.6  11  31   8    \"47;\"\n",
       "  95.9   7  52   6    \"33;\"\n",
       " 109.2  11  55   9    \"22;\"\n",
       " 102.7   3  71  17    \"6;\" \n",
       "  72.5   1  31  22    \"44;\"\n",
       "  93.1   2  54  18    \"22;\"\n",
       " 115.9  21  47   4    \"26;\"\n",
       "  83.8   1  40  23    \"34;\"\n",
       " 113.3  11  66   9    \"12;\"\n",
       " 109.4  10  68   8  12     "
      ]
     },
     "execution_count": 3,
     "metadata": {},
     "output_type": "execute_result"
    }
   ],
   "source": [
    "M = readdlm(nombre)"
   ]
  },
  {
   "cell_type": "markdown",
   "metadata": {},
   "source": [
    "cambia la última columna \n",
    "\n",
    "> arreglos de cadenas $\\quad\\to\\quad$ arreglos de flotantes"
   ]
  },
  {
   "cell_type": "code",
   "execution_count": 4,
   "metadata": {},
   "outputs": [
    {
     "data": {
      "text/plain": [
       "12×5 Array{Float64,2}:\n",
       "  74.3   1.0  29.0  15.0  52.0\n",
       " 104.3  11.0  56.0   8.0  20.0\n",
       "  87.6  11.0  31.0   8.0  47.0\n",
       "  95.9   7.0  52.0   6.0  33.0\n",
       " 109.2  11.0  55.0   9.0  22.0\n",
       " 102.7   3.0  71.0  17.0   6.0\n",
       "  72.5   1.0  31.0  22.0  44.0\n",
       "  93.1   2.0  54.0  18.0  22.0\n",
       " 115.9  21.0  47.0   4.0  26.0\n",
       "  83.8   1.0  40.0  23.0  34.0\n",
       " 113.3  11.0  66.0   9.0  12.0\n",
       " 109.4  10.0  68.0   8.0  12.0"
      ]
     },
     "execution_count": 4,
     "metadata": {},
     "output_type": "execute_result"
    }
   ],
   "source": [
    "m = size(M,1) \n",
    "s = ones(m)\n",
    "for j ∈ 1:m-1\n",
    "    z = String(M[j,end])\n",
    "    s[j] = parse(Float64,z[1:end-1])\n",
    "end\n",
    "s[end] = 12.0\n",
    "A = Float64.([M[:,1:end-1] s])"
   ]
  },
  {
   "cell_type": "markdown",
   "metadata": {},
   "source": [
    "Modifica 1ra columna de $A$ "
   ]
  },
  {
   "cell_type": "code",
   "execution_count": 5,
   "metadata": {},
   "outputs": [
    {
     "data": {
      "text/plain": [
       "12×5 Array{Float64,2}:\n",
       " 24.25   1.0  29.0  15.0  52.0\n",
       " 23.75  11.0  56.0   8.0  20.0\n",
       " 24.25  11.0  31.0   8.0  47.0\n",
       " 24.5    7.0  52.0   6.0  33.0\n",
       " 24.25  11.0  55.0   9.0  22.0\n",
       " 24.25   3.0  71.0  17.0   6.0\n",
       " 24.5    1.0  31.0  22.0  44.0\n",
       " 24.0    2.0  54.0  18.0  22.0\n",
       " 24.5   21.0  47.0   4.0  26.0\n",
       " 24.5    1.0  40.0  23.0  34.0\n",
       " 24.5   11.0  66.0   9.0  12.0\n",
       " 24.5   10.0  68.0   8.0  12.0"
      ]
     },
     "execution_count": 5,
     "metadata": {},
     "output_type": "execute_result"
    }
   ],
   "source": [
    "A[:,1] = 0.25sum(A[:,2:end],2)\n",
    "A"
   ]
  },
  {
   "cell_type": "markdown",
   "metadata": {},
   "source": [
    "Guarda la nueva matriz en otro archivo usando `writedlm`"
   ]
  },
  {
   "cell_type": "code",
   "execution_count": 6,
   "metadata": {},
   "outputs": [],
   "source": [
    "open(\"nuevo_datos.txt\", \"w\") do io\n",
    "    writedlm(io, A,'\\t')\n",
    "end"
   ]
  },
  {
   "cell_type": "markdown",
   "metadata": {},
   "source": [
    "## Ejemplo 2\n",
    "\n",
    "**Abre archivo con valores de los píxeles de imagen $256x256$**\n",
    "\n",
    "**en escala de grises y muestra imagen**"
   ]
  },
  {
   "cell_type": "code",
   "execution_count": 8,
   "metadata": {},
   "outputs": [
    {
     "name": "stderr",
     "output_type": "stream",
     "text": [
      "\u001b[1m\u001b[36mINFO: \u001b[39m\u001b[22m\u001b[36mRecompiling stale cache file /home/vanmc/.julia/lib/v0.6/Calculus.ji for module Calculus.\n",
      "\u001b[39m\u001b[1m\u001b[36mINFO: \u001b[39m\u001b[22m\u001b[36mRecompiling stale cache file /home/vanmc/.julia/lib/v0.6/Interpolations.ji for module Interpolations.\n",
      "\u001b[39m\u001b[1m\u001b[36mINFO: \u001b[39m\u001b[22m\u001b[36mRecompiling stale cache file /home/vanmc/.julia/lib/v0.6/Images.ji for module Images.\n",
      "\u001b[39m"
     ]
    }
   ],
   "source": [
    "using Images, Colors"
   ]
  },
  {
   "cell_type": "code",
   "execution_count": 9,
   "metadata": {},
   "outputs": [
    {
     "name": "stderr",
     "output_type": "stream",
     "text": [
      "Gtk-Message: GtkDialog mapped without a transient parent. This is discouraged.\n",
      "\u001b[1m\u001b[36mINFO: \u001b[39m\u001b[22m\u001b[36mRecompiling stale cache file /home/vanmc/.julia/lib/v0.6/ImageMagick.ji for module ImageMagick.\n",
      "\u001b[39m"
     ]
    },
    {
     "data": {
      "image/png": "[encoded data removed]",
      "text/plain": [
       "256×256 Array{Gray{Float64},2}:\n",
       " Gray{Float64}(0.2205)    Gray{Float64}(0.233127)  …  Gray{Float64}(0.224277)\n",
       " Gray{Float64}(0.233085)  Gray{Float64}(0.247091)     Gray{Float64}(0.237663)\n",
       " Gray{Float64}(0.245154)  Gray{Float64}(0.259992)     Gray{Float64}(0.24944) \n",
       " Gray{Float64}(0.256697)  Gray{Float64}(0.271954)     Gray{Float64}(0.26141) \n",
       " Gray{Float64}(0.266275)  Gray{Float64}(0.282281)     Gray{Float64}(0.271598)\n",
       " Gray{Float64}(0.275304)  Gray{Float64}(0.291574)  …  Gray{Float64}(0.280301)\n",
       " Gray{Float64}(0.282743)  Gray{Float64}(0.299552)     Gray{Float64}(0.288461)\n",
       " Gray{Float64}(0.290358)  Gray{Float64}(0.307235)     Gray{Float64}(0.296105)\n",
       " Gray{Float64}(0.29655)   Gray{Float64}(0.314295)     Gray{Float64}(0.302917)\n",
       " Gray{Float64}(0.303141)  Gray{Float64}(0.32004)      Gray{Float64}(0.310034)\n",
       " Gray{Float64}(0.308875)  Gray{Float64}(0.326975)  …  Gray{Float64}(0.316509)\n",
       " Gray{Float64}(0.313998)  Gray{Float64}(0.332641)     Gray{Float64}(0.322405)\n",
       " Gray{Float64}(0.318815)  Gray{Float64}(0.337526)     Gray{Float64}(0.328183)\n",
       " ⋮                                                 ⋱  ⋮                      \n",
       " Gray{Float64}(0.326108)  Gray{Float64}(0.345263)     Gray{Float64}(0.238061)\n",
       " Gray{Float64}(0.319788)  Gray{Float64}(0.339261)  …  Gray{Float64}(0.232772)\n",
       " Gray{Float64}(0.313797)  Gray{Float64}(0.332351)     Gray{Float64}(0.227415)\n",
       " Gray{Float64}(0.307318)  Gray{Float64}(0.325314)     Gray{Float64}(0.222186)\n",
       " Gray{Float64}(0.300022)  Gray{Float64}(0.316948)     Gray{Float64}(0.215945)\n",
       " Gray{Float64}(0.292637)  Gray{Float64}(0.309488)     Gray{Float64}(0.21013) \n",
       " Gray{Float64}(0.284191)  Gray{Float64}(0.300686)  …  Gray{Float64}(0.20304) \n",
       " Gray{Float64}(0.273954)  Gray{Float64}(0.290056)     Gray{Float64}(0.196704)\n",
       " Gray{Float64}(0.263879)  Gray{Float64}(0.27904)      Gray{Float64}(0.188355)\n",
       " Gray{Float64}(0.252618)  Gray{Float64}(0.267564)     Gray{Float64}(0.180164)\n",
       " Gray{Float64}(0.23999)   Gray{Float64}(0.254461)     Gray{Float64}(0.171427)\n",
       " Gray{Float64}(0.227316)  Gray{Float64}(0.240621)  …  Gray{Float64}(0.161673)"
      ]
     },
     "execution_count": 9,
     "metadata": {},
     "output_type": "execute_result"
    }
   ],
   "source": [
    "nombre = open_dialog(\"Escoge un archivo de texto\", Null(), (\"*.txt\",));\n",
    "M = readdlm(nombre)\n",
    "I = reshape(M',256,256)'\n",
    "Gray.(Array{Float64,2}(I))"
   ]
  },
  {
   "cell_type": "code",
   "execution_count": null,
   "metadata": {},
   "outputs": [],
   "source": []
  },
  {
   "cell_type": "code",
   "execution_count": null,
   "metadata": {},
   "outputs": [],
   "source": []
  }
 ],
 "metadata": {
  "kernelspec": {
   "display_name": "Julia 0.6.2",
   "language": "julia",
   "name": "julia-0.6"
  },
  "language_info": {
   "file_extension": ".jl",
   "mimetype": "application/julia",
   "name": "julia",
   "version": "0.6.2"
  }
 },
 "nbformat": 4,
 "nbformat_minor": 2
}
